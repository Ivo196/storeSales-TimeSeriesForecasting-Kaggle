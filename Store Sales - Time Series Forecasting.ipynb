{
 "cells": [
  {
   "cell_type": "markdown",
   "metadata": {},
   "source": [
    "## Kaggle Competicion \n",
    "### Store Sales - Time Series Forecasting"
   ]
  },
  {
   "cell_type": "code",
   "execution_count": 1,
   "metadata": {},
   "outputs": [],
   "source": [
    "# Importamos las librerias \n",
    "import pandas as pd\n",
    "import numpy as ny\n",
    "import matplotlib as mlt"
   ]
  },
  {
   "cell_type": "code",
   "execution_count": 3,
   "metadata": {},
   "outputs": [],
   "source": [
    "holidays_events = pd.read_csv('./holidays_events.csv')\n",
    "oil = pd.read_csv('./oil.csv')\n",
    "sample_submission = pd.read_csv('./sample_submission.csv')\n",
    "stores = pd.read_csv('./stores.csv')\n",
    "test = pd.read_csv('./oil.csv')\n",
    "train = pd.read_csv('./oil.csv')\n",
    "transactions = pd.read_csv('./transactions.csv')"
   ]
  }
 ],
 "metadata": {
  "kernelspec": {
   "display_name": "Python 3",
   "language": "python",
   "name": "python3"
  },
  "language_info": {
   "codemirror_mode": {
    "name": "ipython",
    "version": 3
   },
   "file_extension": ".py",
   "mimetype": "text/x-python",
   "name": "python",
   "nbconvert_exporter": "python",
   "pygments_lexer": "ipython3",
   "version": "3.12.2"
  }
 },
 "nbformat": 4,
 "nbformat_minor": 2
}
